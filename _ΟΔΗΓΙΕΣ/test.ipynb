{
 "cells": [
  {
   "cell_type": "code",
   "execution_count": 4,
   "metadata": {},
   "outputs": [],
   "source": [
    "from PyPDF2 import PdfFileWriter, PdfFileReader\n",
    "import os\n",
    "\n",
    "# pdf filename\n",
    "filename = './4-pdf/_2Η ΤΑΞΗ - ΑΣΚΗΣΕΙΣ ΕΛΛΗΝΙΚΩΝ.pdf'\n",
    "\n",
    "# load pdf\n",
    "pdf = PdfFileReader(open(filename,'rb'))"
   ]
  },
  {
   "cell_type": "code",
   "execution_count": 12,
   "metadata": {},
   "outputs": [],
   "source": [
    "# create a new directory to store the pdf\n",
    "os.makedirs(filename+'-split',exist_ok=True)\n",
    "\n",
    "for i in range(pdf.numPages):\n",
    "    # Create new pdf\n",
    "    new_pdf = PdfFileWriter()\n",
    "    new_pdf.add_page(pdf.getPage(i))\n",
    "\n",
    "    # save the new pdf\n",
    "    temp_filename = filename+'-split/'+'page%3d'%i\n",
    "    \n",
    "    # Create output file stream\n",
    "    os.makedirs(temp_filename)\n",
    "    outfile = open(temp_filename+'/page%3d.pdf'%i,'wb')     # Create output file stream\n",
    "    new_pdf.write(outfile)                                  # Send the pdf to the output file stream\n",
    "    outfile.close()                                         # Close output file stream\n",
    "\n",
    "    "
   ]
  },
  {
   "cell_type": "code",
   "execution_count": 23,
   "metadata": {},
   "outputs": [],
   "source": [
    "# Split pdf command\n",
    "def pdf_split(filename:str,filenames:list):\n",
    "    \n",
    "    # Load the pdf\n",
    "    pdf = PdfFileReader(open(filename,'rb'))\n",
    "\n",
    "    # Check relative sizes\n",
    "    if pdf.numPages != len(filenames): return \"PDF pages is not equal to the number of filenames\"\n",
    "\n",
    "    # create a new directory to store the pdf\n",
    "    os.makedirs(filename+'-split',exist_ok=True)\n",
    "\n",
    "    # For each pdf page\n",
    "    for i,fname in zip(range(pdf.numPages),filenames):\n",
    "        # remove the .pdf from filename\n",
    "        fname.replace('.pdf','')\n",
    "\n",
    "        # Create new pdf\n",
    "        new_pdf = PdfFileWriter()\n",
    "        new_pdf.add_page(pdf.getPage(i))\n",
    "\n",
    "        # save the new pdf\n",
    "        temp_filename = filename+'-split/'+fname+'/'\n",
    "        \n",
    "        # Create output file stream\n",
    "        os.makedirs(temp_filename,exist_ok=True)\n",
    "        outfile = open(temp_filename+fname+'.pdf','wb')         # Create output file stream\n",
    "        new_pdf.write(outfile)                                  # Send the pdf to the output file stream\n",
    "        outfile.close()                                         # Close output file stream\n",
    "\n",
    "    # Return filename\n",
    "    return filename+'-split'"
   ]
  },
  {
   "cell_type": "code",
   "execution_count": 24,
   "metadata": {},
   "outputs": [
    {
     "data": {
      "text/plain": [
       "'./4-pdf/_2Η ΤΑΞΗ - ΑΣΚΗΣΕΙΣ ΕΛΛΗΝΙΚΩΝ.pdf-split'"
      ]
     },
     "execution_count": 24,
     "metadata": {},
     "output_type": "execute_result"
    }
   ],
   "source": [
    "pdf_split(filename,[str(i) for i in range(53)])"
   ]
  },
  {
   "cell_type": "code",
   "execution_count": null,
   "metadata": {},
   "outputs": [],
   "source": []
  }
 ],
 "metadata": {
  "kernelspec": {
   "display_name": "Python 3.9.13 ('mailer')",
   "language": "python",
   "name": "python3"
  },
  "language_info": {
   "codemirror_mode": {
    "name": "ipython",
    "version": 3
   },
   "file_extension": ".py",
   "mimetype": "text/x-python",
   "name": "python",
   "nbconvert_exporter": "python",
   "pygments_lexer": "ipython3",
   "version": "3.9.13"
  },
  "orig_nbformat": 4,
  "vscode": {
   "interpreter": {
    "hash": "cbe66dee7317936af5350ac6c720ca0ba483b53040f45c0990fe1fc46481911e"
   }
  }
 },
 "nbformat": 4,
 "nbformat_minor": 2
}
